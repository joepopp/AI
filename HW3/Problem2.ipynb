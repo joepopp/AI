{
  "nbformat": 4,
  "nbformat_minor": 0,
  "metadata": {
    "colab": {
      "provenance": [],
      "authorship_tag": "ABX9TyMv3E04dx8eJpTY1UNeE6TP",
      "include_colab_link": true
    },
    "kernelspec": {
      "name": "python3",
      "display_name": "Python 3"
    },
    "language_info": {
      "name": "python"
    }
  },
  "cells": [
    {
      "cell_type": "markdown",
      "metadata": {
        "id": "view-in-github",
        "colab_type": "text"
      },
      "source": [
        "<a href=\"https://colab.research.google.com/github/joepopp/AI/blob/main/Problem2.ipynb\" target=\"_parent\"><img src=\"https://colab.research.google.com/assets/colab-badge.svg\" alt=\"Open In Colab\"/></a>"
      ]
    },
    {
      "cell_type": "markdown",
      "source": [
        "Joe Popp\n",
        "\n",
        "Create a breadth first search algorithm for a social network that returns potential connections betweem mutual friends"
      ],
      "metadata": {
        "id": "PZUqVCYuwVlk"
      }
    },
    {
      "cell_type": "code",
      "source": [
        "from collections import deque\n",
        "\n",
        "# Start the graph search from root using a doubly-ended queue\n",
        "\n",
        "def PotentialFriends(graph, root):\n",
        "\n",
        "    # create visited list, next deque, and next deque\n",
        "    visited, next, queue = set(), deque([]), deque([root])\n",
        "    visited.add(root)\n",
        "\n",
        "    #loop through two levels of friends\n",
        "    for i in range(3):\n",
        "\n",
        "        # Keep exploring as long as the queue is not empty\n",
        "        while queue:\n",
        "\n",
        "            # Dequeue a vertex from queue\n",
        "            vertex = queue.popleft()\n",
        "            # Print names if two levels away\n",
        "            if (i == 2):\n",
        "                print(vertex, end=\" \")\n",
        "\n",
        "            # If not visited, mark it as visited and add to next\n",
        "            for neighbor in graph[vertex]:\n",
        "                if neighbor not in visited:\n",
        "                    visited.add(neighbor)\n",
        "                    next.append(neighbor)\n",
        "\n",
        "        # populate queue with names in next\n",
        "        queue = next\n",
        "        # reset next deque\n",
        "        next = deque([])"
      ],
      "metadata": {
        "id": "m1O9FBiigAWS"
      },
      "execution_count": null,
      "outputs": []
    },
    {
      "cell_type": "code",
      "source": [
        "# Represent the graph using an adjacency list\n",
        "\n",
        "graph = {\n",
        "  'Adam' : ['Maria'],\n",
        "  'Maria' : ['Adam', 'Sophia', 'Maya', 'David'],\n",
        "  'Maya' : ['Sophia', 'Maria', 'David'],\n",
        "  'Sophia' : ['Maria', 'Maya'],\n",
        "  'David' : ['Maria', 'Maya'],\n",
        "}\n",
        "\n",
        "PotentialFriends(graph, 'Sophia')"
      ],
      "metadata": {
        "colab": {
          "base_uri": "https://localhost:8080/"
        },
        "id": "p_g5fbyUgL9A",
        "outputId": "d0fc3ce5-6079-41a5-ed20-946a3cdd5731"
      },
      "execution_count": null,
      "outputs": [
        {
          "output_type": "stream",
          "name": "stdout",
          "text": [
            "Adam David "
          ]
        }
      ]
    }
  ]
}
