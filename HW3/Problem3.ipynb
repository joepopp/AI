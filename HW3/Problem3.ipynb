{
  "nbformat": 4,
  "nbformat_minor": 0,
  "metadata": {
    "colab": {
      "provenance": [],
      "authorship_tag": "ABX9TyN6/Q3xXEFSFtLH+k7ruaKz",
      "include_colab_link": true
    },
    "kernelspec": {
      "name": "python3",
      "display_name": "Python 3"
    },
    "language_info": {
      "name": "python"
    }
  },
  "cells": [
    {
      "cell_type": "markdown",
      "metadata": {
        "id": "view-in-github",
        "colab_type": "text"
      },
      "source": [
        "<a href=\"https://colab.research.google.com/github/joepopp/AI/blob/main/Problem3.ipynb\" target=\"_parent\"><img src=\"https://colab.research.google.com/assets/colab-badge.svg\" alt=\"Open In Colab\"/></a>"
      ]
    },
    {
      "cell_type": "markdown",
      "source": [
        "Joe Popp\n",
        "\n",
        "Create a depth first search algorithm for a maze that will return whether or not the maze can be successfully solved"
      ],
      "metadata": {
        "id": "xyQifgAmwcA6"
      }
    },
    {
      "cell_type": "code",
      "source": [
        "from collections import deque\n",
        "\n",
        "# Start the graph search from root using a doubly-ended queue\n",
        "\n",
        "def possibleMaze(maze, start, end):\n",
        "\n",
        "    # deque is list-like container with fast appends and pops on either end\n",
        "    visited, queue = set(), deque([start])\n",
        "    visited.add(start)\n",
        "\n",
        "    # Keep exploring as long as the queue is not empty\n",
        "    while queue:\n",
        "\n",
        "        # Dequeue a vertex from queue\n",
        "        vertex = queue.pop()\n",
        "        # print secces if goal is reached\n",
        "        if (vertex == '50'):\n",
        "          print(\"SUCCESS\")\n",
        "          break\n",
        "\n",
        "        # If not visited, mark it as visited, and enqueue it\n",
        "        for neighbor in maze[vertex]:\n",
        "            if (neighbor not in visited):\n",
        "                visited.add(neighbor)\n",
        "                queue.append(neighbor)\n",
        "\n",
        "        #print failure if goal cannot be reached\n",
        "        if not queue:\n",
        "          print(\"FAILURE\")"
      ],
      "metadata": {
        "id": "UnCtcHsekYl4"
      },
      "execution_count": 6,
      "outputs": []
    },
    {
      "cell_type": "code",
      "source": [
        "# Represent the maze using an adjacency list\n",
        "\n",
        "maze1 = {\n",
        "  '1' : ['2', '11'],\n",
        "  '2' : ['1', '3'],\n",
        "  '3' : ['2', '13'],\n",
        "  '4' : ['5', '14'],\n",
        "  '5' : ['4', '6'],\n",
        "  '6' : ['5', '16'],\n",
        "  '7' : ['8', '17'],\n",
        "  '8' : ['7', '9'],\n",
        "  '9' : ['8', '10'],\n",
        "  '10' : ['9', '20'],\n",
        "  '11' : ['1', '21'],\n",
        "  '12' : ['13'],\n",
        "  '13' : ['3', '12'],\n",
        "  '14' : ['4', '15'],\n",
        "  '15' : ['14', '25'],\n",
        "  '16' : ['6', '17'],\n",
        "  '17' : ['7', '16'],\n",
        "  '18' : ['28'],\n",
        "  '19' : ['20', '29'],\n",
        "  '20' : ['10', '19'],\n",
        "  '21' : ['11', '22'],\n",
        "  '22' : ['21', '32'],\n",
        "  '23' : ['24', '33'],\n",
        "  '24' : ['23'],\n",
        "  '25' : ['15', '26', '35'],\n",
        "  '26' : ['25', '36'],\n",
        "  '27' : ['17', '28'],\n",
        "  '28' : ['18', '27'],\n",
        "  '29' : ['19', '39'],\n",
        "  '30' : ['40'],\n",
        "  '31' : ['32', '41'],\n",
        "  '32' : ['31', '22', '33'],\n",
        "  '33' : ['23', '32'],\n",
        "  '34' : ['35', '44'],\n",
        "  '35' : ['25', '34', '45'],\n",
        "  '36' : ['26', '37'],\n",
        "  '37' : ['36'],\n",
        "  '38' : ['39', '48'],\n",
        "  '39' : ['29', '38', '40'],\n",
        "  '40' : ['30', '39'],\n",
        "  '41' : ['31', '42'],\n",
        "  '42' : ['41', '43'],\n",
        "  '43' : ['42', '44'],\n",
        "  '44' : ['34', '43'],\n",
        "  '45' : ['35', '46'],\n",
        "  '46' : ['45'],\n",
        "  '47' : ['48'],\n",
        "  '48' : ['38', '47', '49'],\n",
        "  '49' : ['48', '50'],\n",
        "  '50' : ['49']\n",
        "}\n",
        "\n",
        "possibleMaze(maze1, '1', '50')"
      ],
      "metadata": {
        "colab": {
          "base_uri": "https://localhost:8080/"
        },
        "id": "mDwWmG9vk7oX",
        "outputId": "e0247e39-d3a8-4f50-e15c-332dda258835"
      },
      "execution_count": 7,
      "outputs": [
        {
          "output_type": "stream",
          "name": "stdout",
          "text": [
            "SUCCESS\n"
          ]
        }
      ]
    },
    {
      "cell_type": "code",
      "source": [
        "# Represent the maze using an adjacency list\n",
        "\n",
        "maze2 = {\n",
        "  '1' : ['2', '11'],\n",
        "  '2' : ['1', '3'],\n",
        "  '3' : ['2', '13'],\n",
        "  '4' : ['5', '14'],\n",
        "  '5' : ['4', '6'],\n",
        "  '6' : ['5', '16'],\n",
        "  '7' : ['8', '17'],\n",
        "  '8' : ['7', '9'],\n",
        "  '9' : ['8', '10'],\n",
        "  '10' : ['9', '20'],\n",
        "  '11' : ['1', '21'],\n",
        "  '12' : ['13'],\n",
        "  '13' : ['3', '12'],\n",
        "  '14' : ['4', '15'],\n",
        "  '15' : ['14', '25'],\n",
        "  '16' : ['6', '17'],\n",
        "  '17' : ['7', '16'],\n",
        "  '18' : ['28'],\n",
        "  '19' : ['20', '29'],\n",
        "  '20' : ['10', '19'],\n",
        "  '21' : ['11', '22'],\n",
        "  '22' : ['21'],\n",
        "  '23' : ['24', '33'],\n",
        "  '24' : ['23'],\n",
        "  '25' : ['15', '26', '35'],\n",
        "  '26' : ['25', '36'],\n",
        "  '27' : ['17', '28'],\n",
        "  '28' : ['18', '27'],\n",
        "  '29' : ['19', '39'],\n",
        "  '30' : ['40'],\n",
        "  '31' : ['32', '41'],\n",
        "  '32' : ['31', '33'],\n",
        "  '33' : ['23', '32'],\n",
        "  '34' : ['35', '44'],\n",
        "  '35' : ['25', '34', '45'],\n",
        "  '36' : ['26', '37'],\n",
        "  '37' : ['36'],\n",
        "  '38' : ['39', '48'],\n",
        "  '39' : ['29', '38', '40'],\n",
        "  '40' : ['30', '39'],\n",
        "  '41' : ['31', '42'],\n",
        "  '42' : ['41', '43'],\n",
        "  '43' : ['42', '44'],\n",
        "  '44' : ['34', '43'],\n",
        "  '45' : ['35', '46'],\n",
        "  '46' : ['45'],\n",
        "  '47' : ['48'],\n",
        "  '48' : ['38', '47', '49'],\n",
        "  '49' : ['48', '50'],\n",
        "  '50' : ['49']\n",
        "}\n",
        "\n",
        "possibleMaze(maze2, '1', '50')"
      ],
      "metadata": {
        "colab": {
          "base_uri": "https://localhost:8080/"
        },
        "outputId": "5702234d-b4d9-4e2b-96c9-d2b6d407c5aa",
        "id": "r8FQooEBscLW"
      },
      "execution_count": 8,
      "outputs": [
        {
          "output_type": "stream",
          "name": "stdout",
          "text": [
            "FAILURE\n"
          ]
        }
      ]
    }
  ]
}
