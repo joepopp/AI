{
  "nbformat": 4,
  "nbformat_minor": 0,
  "metadata": {
    "colab": {
      "provenance": [],
      "authorship_tag": "ABX9TyPLIXdCw3erfDrTc+t6JCKi",
      "include_colab_link": true
    },
    "kernelspec": {
      "name": "python3",
      "display_name": "Python 3"
    },
    "language_info": {
      "name": "python"
    }
  },
  "cells": [
    {
      "cell_type": "markdown",
      "metadata": {
        "id": "view-in-github",
        "colab_type": "text"
      },
      "source": [
        "<a href=\"https://colab.research.google.com/github/joepopp/AI/blob/main/Problem1.ipynb\" target=\"_parent\"><img src=\"https://colab.research.google.com/assets/colab-badge.svg\" alt=\"Open In Colab\"/></a>"
      ]
    },
    {
      "cell_type": "markdown",
      "source": [
        "Joe Popp\n",
        "\n",
        "Create a breadth first search algorithm for a social network that returns friends at a specified level"
      ],
      "metadata": {
        "id": "9NuudCEev4Hm"
      }
    },
    {
      "cell_type": "code",
      "execution_count": 1,
      "metadata": {
        "id": "y2hWPvnhU2v2"
      },
      "outputs": [],
      "source": [
        "from collections import deque\n",
        "\n",
        "# Start the graph search from root using a doubly-ended queue\n",
        "\n",
        "def FindFriends(graph, root, level):\n",
        "\n",
        "    # create visited list, next deque, and next deque\n",
        "    visited, next, queue = set(), deque([]), deque([root])\n",
        "    visited.add(root)\n",
        "\n",
        "    #loop through each level of friends\n",
        "    for i in range(level+1):\n",
        "\n",
        "        # Keep exploring as long as the queue is not empty\n",
        "        while queue:\n",
        "\n",
        "            # Dequeue a vertex from queue\n",
        "            vertex = queue.popleft()\n",
        "            # Print names if on the correct level\n",
        "            if (i == level):\n",
        "                print(vertex, end=\" \")\n",
        "\n",
        "            # If not visited, mark it as visited and add to next\n",
        "            for neighbor in graph[vertex]:\n",
        "                if neighbor not in visited:\n",
        "                    visited.add(neighbor)\n",
        "                    next.append(neighbor)\n",
        "\n",
        "        # populate queue with names in next\n",
        "        queue = next\n",
        "        # reset next deque\n",
        "        next = deque([])"
      ]
    },
    {
      "cell_type": "code",
      "source": [
        "# Represent the graph using an adjacency list\n",
        "\n",
        "graph = {\n",
        "  'Bob' : ['Richard','Rob','Pam'],\n",
        "  'Pam' : ['Roger', 'Peter'],\n",
        "  'Roger' : ['Anna'],\n",
        "  'Peter' : ['Amy'],\n",
        "  'Richard' : [],\n",
        "  'Rob' : [],\n",
        "  'Anna' : [],\n",
        "  'Amy' : [],\n",
        "}\n",
        "\n",
        "FindFriends(graph, 'Bob', 3)"
      ],
      "metadata": {
        "colab": {
          "base_uri": "https://localhost:8080/"
        },
        "id": "8_-gmKVlVLx7",
        "outputId": "3d72fb28-983a-4545-8dcf-3ddbece5ef87"
      },
      "execution_count": 2,
      "outputs": [
        {
          "output_type": "stream",
          "name": "stdout",
          "text": [
            "Anna Amy "
          ]
        }
      ]
    }
  ]
}
